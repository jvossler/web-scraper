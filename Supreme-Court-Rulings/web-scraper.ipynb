{
 "cells": [
  {
   "cell_type": "code",
   "execution_count": 1,
   "metadata": {},
   "outputs": [
    {
     "name": "stdout",
     "output_type": "stream",
     "text": [
      "Defaulting to user installation because normal site-packages is not writeable\n",
      "Collecting pdfkit\n",
      "  Downloading pdfkit-1.0.0-py3-none-any.whl (12 kB)\n",
      "Installing collected packages: pdfkit\n",
      "Successfully installed pdfkit-1.0.0\n"
     ]
    }
   ],
   "source": [
    "import requests\n",
    "from bs4 import BeautifulSoup\n",
    "!pip3 install pdfkit\n",
    "import pdfkit"
   ]
  },
  {
   "cell_type": "code",
   "execution_count": null,
   "metadata": {},
   "outputs": [],
   "source": [
    "base_url = 'https://www.loc.gov/collections/united-states-reports/index/subject/'  # Replace with the base URL of the website\n",
    "num_pages = 487  # Replace with the total number of paginated pages\n",
    "\n",
    "for page in range(1, num_pages + 1):\n",
    "    url = f'{base_url}/?sp={page}'  # Replace '/page/' with the actual URL pattern\n",
    "    response = requests.get(url)\n",
    "    soup = BeautifulSoup(response.text, 'html.parser')\n",
    "\n",
    "    # Scrape the links as before\n",
    "    pdf_links = soup.find_all('div', class_='pdf-link')\n",
    "\n",
    "    for link in pdf_links:\n",
    "        pdf_url = link['href']\n",
    "        response = requests.get(pdf_url)\n",
    "\n",
    "        # Save the PDF file\n",
    "        with open('file.pdf', 'wb') as file:\n",
    "            file.write(response.content)\n"
   ]
  }
 ],
 "metadata": {
  "kernelspec": {
   "display_name": "Python 3",
   "language": "python",
   "name": "python3"
  },
  "language_info": {
   "codemirror_mode": {
    "name": "ipython",
    "version": 3
   },
   "file_extension": ".py",
   "mimetype": "text/x-python",
   "name": "python",
   "nbconvert_exporter": "python",
   "pygments_lexer": "ipython3",
   "version": "3.10.6"
  },
  "orig_nbformat": 4
 },
 "nbformat": 4,
 "nbformat_minor": 2
}
